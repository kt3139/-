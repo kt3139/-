{
  "nbformat": 4,
  "nbformat_minor": 0,
  "metadata": {
    "colab": {
      "name": "Untitled1.ipynb",
      "provenance": [],
      "authorship_tag": "ABX9TyOUp/eiWNibH4ketwN3vqRJ",
      "include_colab_link": true
    },
    "kernelspec": {
      "name": "python3",
      "display_name": "Python 3"
    }
  },
  "cells": [
    {
      "cell_type": "markdown",
      "metadata": {
        "id": "view-in-github",
        "colab_type": "text"
      },
      "source": [
        "<a href=\"https://colab.research.google.com/github/kt3139/-/blob/master/1%EC%A3%BC%EC%B0%A8%EA%B3%BC%EC%A0%9C%20.ipynb\" target=\"_parent\"><img src=\"https://colab.research.google.com/assets/colab-badge.svg\" alt=\"Open In Colab\"/></a>"
      ]
    },
    {
      "cell_type": "markdown",
      "metadata": {
        "id": "ZG70UayDpg4p",
        "colab_type": "text"
      },
      "source": [
        "#1주차 과제\n",
        "\n",
        "\n",
        "<음성>\n",
        "**AI 스피커**\n",
        "  \n",
        "**음악 인식**\n",
        "\n",
        "[AI 스피커에 관련된 기사](https://biz.chosun.com/site/data/html_dir/2019/12/31/2019123102852.html)\n",
        "\n",
        "\n",
        "<언어>\n",
        "\n",
        "**파파고**\n",
        "\n",
        "**구글번역기**\n",
        "\n",
        "**자동완성**\n",
        "\n",
        "<이미지>\n",
        "\n",
        "**얼굴 인식**\n",
        "\n",
        "**지문 인식**\n",
        "\n",
        "**보안 검색대**\n",
        "\n",
        "\n",
        "[이미지 관련 기사]\n",
        "(https://post.naver.com/viewer/postView.nhn?volumeNo=17875379&memberNo=39046504)\n",
        "\n",
        "<자율주행>\n",
        "\n",
        "**자동차**\n",
        "(http://www.ndsl.kr/ndsl/issueNdsl/detail.do?techSq=77)\n",
        "\n",
        "**드론**\n",
        "\n",
        "**딥러닝**\n",
        "(https://tensorflow.blog/%EC%BC%80%EB%9D%BC%EC%8A%A4-%EB%94%A5%EB%9F%AC%EB%8B%9D/1-%EB%94%A5%EB%9F%AC%EB%8B%9D%EC%9D%B4%EB%9E%80-%EB%AC%B4%EC%97%87%EC%9D%B8%EA%B0%80/)\n",
        "\n",
        "\n",
        "**빅데이터 분석**\n",
        "(https://ko.wikipedia.org/wiki/%EB%B9%85_%EB%8D%B0%EC%9D%B4%ED%84%B0)\n",
        "\n"
      ]
    }
  ]
}