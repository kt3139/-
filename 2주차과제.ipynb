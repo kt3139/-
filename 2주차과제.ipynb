{
  "nbformat": 4,
  "nbformat_minor": 0,
  "metadata": {
    "colab": {
      "name": "Untitled2.ipynb의 사본",
      "provenance": [],
      "authorship_tag": "ABX9TyMeeDgz14Os/YgDoiaRpwzg",
      "include_colab_link": true
    },
    "kernelspec": {
      "name": "python3",
      "display_name": "Python 3"
    }
  },
  "cells": [
    {
      "cell_type": "markdown",
      "metadata": {
        "id": "view-in-github",
        "colab_type": "text"
      },
      "source": [
        "<a href=\"https://colab.research.google.com/github/kt3139/-/blob/master/2%EC%A3%BC%EC%B0%A8%EA%B3%BC%EC%A0%9C.ipynb\" target=\"_parent\"><img src=\"https://colab.research.google.com/assets/colab-badge.svg\" alt=\"Open In Colab\"/></a>"
      ]
    },
    {
      "cell_type": "markdown",
      "metadata": {
        "id": "yzNkpRhgpfI7",
        "colab_type": "text"
      },
      "source": [
        "2주차 과제\n",
        "\n"
      ]
    },
    {
      "cell_type": "code",
      "metadata": {
        "id": "C0nDae6npjK3",
        "colab_type": "code",
        "colab": {}
      },
      "source": [
        ""
      ],
      "execution_count": 0,
      "outputs": []
    },
    {
      "cell_type": "markdown",
      "metadata": {
        "id": "8bJyFItdpkcj",
        "colab_type": "text"
      },
      "source": [
        "01번 문제\n"
      ]
    },
    {
      "cell_type": "code",
      "metadata": {
        "id": "pLgjR4ubpl8v",
        "colab_type": "code",
        "outputId": "67b28556-dfb8-4b46-9152-c4e8581e7145",
        "colab": {
          "base_uri": "https://localhost:8080/",
          "height": 35
        }
      },
      "source": [
        "a = 'str'\n",
        "b = 123\n",
        "c = True\n",
        "\n",
        "print(type(a),type(b),type(c))\n"
      ],
      "execution_count": 0,
      "outputs": [
        {
          "output_type": "stream",
          "text": [
            "<class 'str'> <class 'int'> <class 'bool'>\n"
          ],
          "name": "stdout"
        }
      ]
    },
    {
      "cell_type": "markdown",
      "metadata": {
        "id": "cKWlUHC8pvMe",
        "colab_type": "text"
      },
      "source": [
        "02번 문제\n",
        "\n"
      ]
    },
    {
      "cell_type": "code",
      "metadata": {
        "id": "yJ7O2qJRpxdv",
        "colab_type": "code",
        "outputId": "fc26edcc-1865-4633-ad75-e48b61f4567c",
        "colab": {
          "base_uri": "https://localhost:8080/",
          "height": 35
        }
      },
      "source": [
        "num_list = [1,2,3,4,5,6,7,8,9]\n",
        "answer = 0;\n",
        "\n",
        "for x in num_list:\n",
        "  answer += x\n",
        "  \n",
        "  \n",
        "print(answer)"
      ],
      "execution_count": 0,
      "outputs": [
        {
          "output_type": "stream",
          "text": [
            "45\n"
          ],
          "name": "stdout"
        }
      ]
    },
    {
      "cell_type": "markdown",
      "metadata": {
        "id": "abRAtLKUriox",
        "colab_type": "text"
      },
      "source": [
        "03번 문제\n"
      ]
    },
    {
      "cell_type": "code",
      "metadata": {
        "id": "LBWltoUZtLDQ",
        "colab_type": "code",
        "outputId": "073decb6-5774-48f2-ad8c-8acacba4bf00",
        "colab": {
          "base_uri": "https://localhost:8080/",
          "height": 35
        }
      },
      "source": [
        "data = '20200511'\n",
        "\n",
        "year = data[0:4]\n",
        "month = data[4:6]\n",
        "day = data[6:8]\n",
        "\n",
        "print(year, month, day)\n"
      ],
      "execution_count": 0,
      "outputs": [
        {
          "output_type": "stream",
          "text": [
            "2020 05 11\n"
          ],
          "name": "stdout"
        }
      ]
    },
    {
      "cell_type": "markdown",
      "metadata": {
        "id": "bwr9itwWukUO",
        "colab_type": "text"
      },
      "source": [
        "04번 문제\n"
      ]
    },
    {
      "cell_type": "code",
      "metadata": {
        "id": "dxZ0pZURum1t",
        "colab_type": "code",
        "outputId": "811194c6-e126-43d5-8582-c4323a92a2cf",
        "colab": {
          "base_uri": "https://localhost:8080/",
          "height": 35
        }
      },
      "source": [
        "summary = 0\n",
        "for x in range(1,101):\n",
        "  summary += x\n",
        "  \n",
        "\n",
        "print(summary)"
      ],
      "execution_count": 0,
      "outputs": [
        {
          "output_type": "stream",
          "text": [
            "5050\n"
          ],
          "name": "stdout"
        }
      ]
    },
    {
      "cell_type": "code",
      "metadata": {
        "id": "gmSGMdC_vFFe",
        "colab_type": "code",
        "colab": {}
      },
      "source": [
        ""
      ],
      "execution_count": 0,
      "outputs": []
    },
    {
      "cell_type": "markdown",
      "metadata": {
        "id": "l3AEcZm2vlfA",
        "colab_type": "text"
      },
      "source": [
        "05번 문제\n"
      ]
    },
    {
      "cell_type": "code",
      "metadata": {
        "id": "94-6HI5aMlVJ",
        "colab_type": "code",
        "colab": {}
      },
      "source": [
        ""
      ],
      "execution_count": 0,
      "outputs": []
    },
    {
      "cell_type": "code",
      "metadata": {
        "id": "fNTw0Dw7vmSD",
        "colab_type": "code",
        "outputId": "fb414341-0a03-4f70-93b5-4a4363f98276",
        "colab": {
          "base_uri": "https://localhost:8080/",
          "height": 35
        }
      },
      "source": [
        "hangul = '가나다라마바사'\n",
        "\n",
        "print(hangul[6::-1])"
      ],
      "execution_count": 0,
      "outputs": [
        {
          "output_type": "stream",
          "text": [
            "사바마라다나가\n"
          ],
          "name": "stdout"
        }
      ]
    },
    {
      "cell_type": "markdown",
      "metadata": {
        "id": "MJXUh3UPw_6D",
        "colab_type": "text"
      },
      "source": [
        "06번문제\n"
      ]
    },
    {
      "cell_type": "code",
      "metadata": {
        "id": "GT7lhJh3xBNN",
        "colab_type": "code",
        "outputId": "34d68ae4-cdeb-4530-d851-a797f952c312",
        "colab": {
          "base_uri": "https://localhost:8080/",
          "height": 35
        }
      },
      "source": [
        "num = \"70 50 90 70\"\n",
        "\n",
        "a = num.split(' ')\n",
        "\n",
        "#print(a)\n",
        "\n",
        "a = list(map(int,a))\n",
        "\n",
        "hap = 0\n",
        "avg = 0\n",
        "b = len(a)\n",
        "for i in range(b):\n",
        "    hap += a[i]\n",
        "\n",
        "avg = hap/b\n",
        "print(avg)"
      ],
      "execution_count": 0,
      "outputs": [
        {
          "output_type": "stream",
          "text": [
            "70.0\n"
          ],
          "name": "stdout"
        }
      ]
    },
    {
      "cell_type": "markdown",
      "metadata": {
        "id": "iExMmaN5zbD-",
        "colab_type": "text"
      },
      "source": [
        "07번문제\n",
        "\n"
      ]
    },
    {
      "cell_type": "code",
      "metadata": {
        "id": "aMrSiztXzcWa",
        "colab_type": "code",
        "outputId": "23d6da2f-dfa4-46d5-d3b2-9ea54dca792c",
        "colab": {
          "base_uri": "https://localhost:8080/",
          "height": 53
        }
      },
      "source": [
        "n = int(input('숫자를 입력해주세요'))\n",
        "\n",
        "if n%2 == 0:\n",
        "    print(\"짝수입니다\")\n",
        "else :\n",
        "    print(\"짝수가 아닙니다.\")\n"
      ],
      "execution_count": 0,
      "outputs": [
        {
          "output_type": "stream",
          "text": [
            "숫자를 입력해주세요4\n",
            "짝수입니다\n"
          ],
          "name": "stdout"
        }
      ]
    },
    {
      "cell_type": "markdown",
      "metadata": {
        "id": "O-9LL5Bez00q",
        "colab_type": "text"
      },
      "source": [
        "08번 문제\n",
        "\n"
      ]
    },
    {
      "cell_type": "code",
      "metadata": {
        "id": "af2bKOzFz3I-",
        "colab_type": "code",
        "outputId": "4b847029-a6c0-4f87-ee07-2052ef15394c",
        "colab": {
          "base_uri": "https://localhost:8080/",
          "height": 53
        }
      },
      "source": [
        "import math\n",
        "list_08 = [3, 4]\n",
        "\n",
        "\n",
        "a = math.pow(list_08[0], 2) + math.pow(list_08[1], 2)\n",
        "print (\"대각선의 제곱의 길이 : \",(a))\n",
        "print (\"대각선의 길이 : \", math.sqrt(a))"
      ],
      "execution_count": 0,
      "outputs": [
        {
          "output_type": "stream",
          "text": [
            "대각선의 제곱의 길이 :  25.0\n",
            "대각선의 길이 :  5.0\n"
          ],
          "name": "stdout"
        }
      ]
    },
    {
      "cell_type": "markdown",
      "metadata": {
        "id": "HPsc1u9n0esB",
        "colab_type": "text"
      },
      "source": [
        "09번 문제\n",
        "\n"
      ]
    },
    {
      "cell_type": "code",
      "metadata": {
        "id": "IG8YE1ta0ft5",
        "colab_type": "code",
        "outputId": "c1acbf3f-04c3-4470-b7b4-e35d1b62d798",
        "colab": {
          "base_uri": "https://localhost:8080/",
          "height": 53
        }
      },
      "source": [
        "def prime_number(a):\n",
        "  if a != 1:\n",
        "    for x in range(2, a):\n",
        "      if a % x == 0:\n",
        "        return False\n",
        "  else:\n",
        "    return False\n",
        "  \n",
        "  return True\n",
        "\n",
        "\n",
        "\n",
        "num_10 = int(input('숫자를 입력해주세요'))\n",
        "if prime_number(int(num_10)):\n",
        "  print(\"소수입니다\")\n",
        "else:\n",
        "  print(\"소수가 아닙니다\")"
      ],
      "execution_count": 0,
      "outputs": [
        {
          "output_type": "stream",
          "text": [
            "숫자를 입력해주세요6\n",
            "소수가아닙니다\n"
          ],
          "name": "stdout"
        }
      ]
    },
    {
      "cell_type": "markdown",
      "metadata": {
        "id": "TZZZ1pyf-x0z",
        "colab_type": "text"
      },
      "source": [
        "인공지능 수학 문제\n",
        "--------------------------------------\n",
        "1번 문제\n",
        "\n",
        "hx = 10xh = 3x10 + 1\n",
        "hx = 10h = 31\n",
        "h = 3.1\n",
        "답 : 3.1\n",
        "\n",
        "2번 문제\n",
        "\n",
        "\n",
        "\n",
        "\n",
        "\n",
        "3번 문제\n",
        "\n"
      ]
    }
  ]
}